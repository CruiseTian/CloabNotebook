{
  "nbformat": 4,
  "nbformat_minor": 0,
  "metadata": {
    "colab": {
      "name": "iCopy.ipynb",
      "provenance": [],
      "collapsed_sections": [],
      "toc_visible": true,
      "authorship_tag": "ABX9TyO7Kqk9AdQ4sAROPpynr+mG",
      "include_colab_link": true
    },
    "kernelspec": {
      "name": "python3",
      "display_name": "Python 3"
    }
  },
  "cells": [
    {
      "cell_type": "markdown",
      "metadata": {
        "id": "view-in-github",
        "colab_type": "text"
      },
      "source": [
        "<a href=\"https://colab.research.google.com/github/CruiseTian/CloabNotebook/blob/master/iCopy.ipynb\" target=\"_parent\"><img src=\"https://colab.research.google.com/assets/colab-badge.svg\" alt=\"Open In Colab\"/></a>"
      ]
    },
    {
      "cell_type": "markdown",
      "metadata": {
        "id": "vWSEqzF6XHH6",
        "colab_type": "text"
      },
      "source": [
        "### <font size=5px color=\"red\">✦ *Google Colab 突破90分钟自动断开:</font>\n",
        "<p><font size=3px > 每60分钟自动运行代码以刷新90分钟断开限制. 打开 developer-settings (在你的浏览器) 快速健 Ctrl+Shift+I 然后按console 输入以下代码 Enter. ( mac 按 Option+Command+I)</p><b>复制以下隐藏代码粉贴在浏览器console！！不要关闭浏览器以免失效</b>"
      ]
    },
    {
      "cell_type": "markdown",
      "metadata": {
        "id": "KTo0pV-EXJqa",
        "colab_type": "text"
      },
      "source": [
        "<code>function ClickConnect(){\n",
        "console.log(\"Working\"); \n",
        "document.querySelector(\"colab-connect-button\").click() \n",
        "}setInterval(ClickConnect,6000)</code>"
      ]
    },
    {
      "cell_type": "code",
      "metadata": {
        "id": "mh-vh6usXNqS",
        "colab_type": "code",
        "cellView": "form",
        "colab": {}
      },
      "source": [
        "#@markdown <h3>← 输入了代码后运行以防止断开</h>\n",
        "\n",
        "\n",
        "import IPython\n",
        "from google.colab import output\n",
        "\n",
        "display(IPython.display.Javascript('''\n",
        " function ClickConnect(){\n",
        "   btn = document.querySelector(\"colab-connect-button\")\n",
        "   if (btn != null){\n",
        "     console.log(\"Click colab-connect-button\"); \n",
        "     btn.click() \n",
        "     }\n",
        "   \n",
        "   btn = document.getElementById('ok')\n",
        "   if (btn != null){\n",
        "     console.log(\"Click reconnect\"); \n",
        "     btn.click() \n",
        "     }\n",
        "  }\n",
        "  \n",
        "setInterval(ClickConnect,60000)\n",
        "'''))\n",
        "\n",
        "print(\"Done.\")"
      ],
      "execution_count": null,
      "outputs": []
    },
    {
      "cell_type": "markdown",
      "metadata": {
        "id": "fVvzDXgNTfWK",
        "colab_type": "text"
      },
      "source": [
        "## **准备工作**"
      ]
    },
    {
      "cell_type": "markdown",
      "metadata": {
        "id": "OAY8jtOiaTkf",
        "colab_type": "text"
      },
      "source": [
        "+ SA账号配置**请将SA文件夹压缩为account.zip并放入谷歌个人云盘不是团队盘**,然后运行命令挂载谷歌云盘并配置SA<br>\n",
        "+ 将rclone的配置文件**rclone.conf放入谷歌个人云盘不是团队盘**\n",
        "+ 将连接远程mongodb数据库的icopy **conf.toml文件放入谷歌个人云盘不是团队盘**"
      ]
    },
    {
      "cell_type": "markdown",
      "metadata": {
        "id": "NMzlXoK2YkqA",
        "colab_type": "text"
      },
      "source": [
        "## **环境配置**"
      ]
    },
    {
      "cell_type": "code",
      "metadata": {
        "id": "mVYcTQpSajJa",
        "colab_type": "code",
        "cellView": "form",
        "colab": {}
      },
      "source": [
        "#@markdown <h3>← 挂载谷歌云盘并配置SA</h>\n",
        "!rm -rf /etc/localtime\n",
        "!ln -s /usr/share/zoneinfo/Asia/Shanghai /etc/localtime\n",
        "print(\"时区修改成功\")\n",
        "from google.colab import drive\n",
        "drive.mount(\"/content/drive\")\n",
        "print(\"磁盘挂载成功！\")\n",
        "!mkdir /root/accounts\n",
        "!rm -rf /root/accounts/*\n",
        "print(\"/root/accounts/目录下sa总数为：\")\n",
        "!ls -l | grep \"^-\" | wc -l\n",
        "print(\"已删除旧的SA。\")\n",
        "!cp \"/content/drive/My Drive/account.zip\" \"/root/accounts/\"\n",
        "!unzip -d /root/accounts /root/accounts/account.zip\n",
        "from IPython.display import HTML, clear_output\n",
        "clear_output()\n",
        "print(\"SA配置完成。\")\n",
        "%cd /root/accounts/\n",
        "print(\"/root/accounts/目录下sa总数为：\")\n",
        "!ls -l | grep \"^-\" | wc -l\n",
        "#!rclone copy \"/content/drive/My Drive/sa2/\" \"/content/AutoRclone/accounts/\""
      ],
      "execution_count": null,
      "outputs": []
    },
    {
      "cell_type": "code",
      "metadata": {
        "id": "pZR8cYi1YpHL",
        "colab_type": "code",
        "cellView": "form",
        "colab": {}
      },
      "source": [
        "#@markdown <h3>运行安装fclone<h>\n",
        "#!wget https://raw.githubusercontent.com/cgkings/fclone_shell_bot/master/fclone/fclone.zip && unzip fclone.zip && mv fclone /usr/bin && chmod +x /usr/bin/fclone && fclone version\n",
        "!bash <(wget -qO- https://git.io/JJYE0)\n",
        "!cp \"/content/drive/My Drive/rclone.conf\" \"/root/.config/rclone/\"\n",
        "print(\"Successfully Installed\")"
      ],
      "execution_count": null,
      "outputs": []
    },
    {
      "cell_type": "code",
      "metadata": {
        "id": "QkSHD-APZd8F",
        "colab_type": "code",
        "cellView": "form",
        "colab": {}
      },
      "source": [
        "#@markdown <h3>运行配置iCopy<h>\n",
        "%cd /content/\n",
        "!rm -rf iCopy\n",
        "!git clone https://github.com/fxxkrlab/iCopy.git\n",
        "%cd iCopy\n",
        "!pip3 install -r requirements.txt\n",
        "!pip3 install pymongo[srv]\n",
        "from IPython.display import HTML, clear_output\n",
        "clear_output()\n",
        "!rm -rf config/conf.toml\n",
        "!cp \"/content/drive/My Drive/conf.toml\" \"./config/conf.toml\"\n",
        "print(\"Successfully Installed\")"
      ],
      "execution_count": null,
      "outputs": []
    },
    {
      "cell_type": "markdown",
      "metadata": {
        "id": "aNHOmCL-kXQt",
        "colab_type": "text"
      },
      "source": [
        "### **选择性配置**"
      ]
    },
    {
      "cell_type": "code",
      "metadata": {
        "id": "WsClV9lQ3wvP",
        "colab_type": "code",
        "cellView": "form",
        "colab": {}
      },
      "source": [
        "#@markdown <h3>如果想要使用测试版（develop分支），请运行此单元格<h>\n",
        "%cd /content/iCopy\n",
        "!git pull origin develop"
      ],
      "execution_count": null,
      "outputs": []
    },
    {
      "cell_type": "code",
      "metadata": {
        "id": "5hIamBQ0FstF",
        "colab_type": "code",
        "cellView": "form",
        "colab": {}
      },
      "source": [
        "#@markdown <h3>若从本地上传icopy配置&&fclone配置&&sa压缩包，请运行此单元格<h>\n",
        "%rm -rf /root/accounnts/*\n",
        "print(\"已删除旧的SA。\")\n",
        "!cp \"/content/account.zip\" \"/root/accounts/\"\n",
        "!unzip -d /root/accounts /root/accounts/account.zip\n",
        "from IPython.display import HTML, clear_output\n",
        "clear_output()\n",
        "print(\"SA配置完成。\")\n",
        "!cp \"/content/rclone.conf\" \"/root/.config/rclone/\"\n",
        "print(\"fclone配置完成\")\n",
        "%cd /content/iCopy/\n",
        "!rm -rf config/conf.toml\n",
        "!cp \"/content/colab_conf.toml\" \"./config/conf.toml\"\n",
        "!cat config/conf.toml"
      ],
      "execution_count": null,
      "outputs": []
    },
    {
      "cell_type": "markdown",
      "metadata": {
        "id": "NH6Se1ZyIfEP",
        "colab_type": "text"
      },
      "source": [
        "# **使用iCopy Bot**"
      ]
    },
    {
      "cell_type": "markdown",
      "metadata": {
        "id": "odhSCl8sGv7l",
        "colab_type": "text"
      },
      "source": [
        "## **运行iCopy Bot**"
      ]
    },
    {
      "cell_type": "code",
      "metadata": {
        "id": "k98MSp2MG1-h",
        "colab_type": "code",
        "colab": {},
        "cellView": "form"
      },
      "source": [
        "#@markdown <h3>安装screen并在后台运行iCopy<h>\n",
        "%cd /content/iCopy/\n",
        "# !python3 iCopy.py\n",
        "!apt-get install screen -y\n",
        "!screen -dmS iCopy python3 iCopy.py"
      ],
      "execution_count": null,
      "outputs": []
    },
    {
      "cell_type": "code",
      "metadata": {
        "id": "aitF4BGIW91Z",
        "colab_type": "code",
        "colab": {},
        "cellView": "form"
      },
      "source": [
        "#@markdown <h3>查看iCopy运行状态，也可以用来停止iCopy<h>\n",
        "!screen -r icopy"
      ],
      "execution_count": null,
      "outputs": []
    },
    {
      "cell_type": "markdown",
      "metadata": {
        "id": "ew53paGQkjxT",
        "colab_type": "text"
      },
      "source": [
        "### **查看运行日志**"
      ]
    },
    {
      "cell_type": "code",
      "metadata": {
        "id": "gqGATrOPwsL4",
        "colab_type": "code",
        "colab": {}
      },
      "source": [
        "!tail -f /root/icopy_cloner_debug.log"
      ],
      "execution_count": null,
      "outputs": []
    },
    {
      "cell_type": "markdown",
      "metadata": {
        "id": "QfJGPim6krhy",
        "colab_type": "text"
      },
      "source": [
        "### **去重**"
      ]
    },
    {
      "cell_type": "code",
      "metadata": {
        "id": "oBZiU4ltIqpv",
        "colab_type": "code",
        "cellView": "form",
        "colab": {}
      },
      "source": [
        "#@markdown <h3> <p><center>Gclone去重复工具</center></h>\n",
        "id = \"\" #@param {type:\"string\"}\n",
        "cmd = f\"gclone dedupe newest gc:{{{id}}} --drive-server-side-across-configs -v --tpslimit 5\"\n",
        "!$cmd\n",
        " \n",
        "#@markdown <p><b>- id 可以是团队盘根目录id， 也可以是里面文件夹 id.</p>"
      ],
      "execution_count": null,
      "outputs": []
    }
  ]
}