{
  "nbformat": 4,
  "nbformat_minor": 0,
  "metadata": {
    "colab": {
      "name": "Wizard_bot.ipynb",
      "provenance": [],
      "collapsed_sections": [],
      "toc_visible": true,
      "include_colab_link": true
    },
    "kernelspec": {
      "name": "python3",
      "display_name": "Python 3"
    }
  },
  "cells": [
    {
      "cell_type": "markdown",
      "metadata": {
        "id": "view-in-github",
        "colab_type": "text"
      },
      "source": [
        "<a href=\"https://colab.research.google.com/github/CruiseTian/CloabNotebook/blob/master/Wizard_bot.ipynb\" target=\"_parent\"><img src=\"https://colab.research.google.com/assets/colab-badge.svg\" alt=\"Open In Colab\"/></a>"
      ]
    },
    {
      "cell_type": "markdown",
      "metadata": {
        "id": "G7_Iao8Z9uPp",
        "colab_type": "text"
      },
      "source": [
        "### <font size=5px color=\"red\">✦ *Google Colab 突破90分钟自动断开:</font>\n",
        "<p><font size=3px > 每60分钟自动运行代码以刷新90分钟断开限制. 打开 developer-settings (在你的浏览器) 快速健 Ctrl+Shift+I 然后按console 输入以下代码 Enter. ( mac 按 Option+Command+I)</p><b>复制以下隐藏代码粉贴在浏览器console！！不要关闭浏览器以免失效</b>"
      ]
    },
    {
      "cell_type": "markdown",
      "metadata": {
        "id": "nZuXIaX59yXp",
        "colab_type": "text"
      },
      "source": [
        "<code>function ClickConnect(){\n",
        "console.log(\"Working\"); \n",
        "document.querySelector(\"colab-connect-button\").click() \n",
        "}setInterval(ClickConnect,6000)</code>"
      ]
    },
    {
      "cell_type": "code",
      "metadata": {
        "id": "y9UguAc49v6k",
        "colab_type": "code",
        "cellView": "form",
        "colab": {}
      },
      "source": [
        "#@markdown <h3>← 输入了代码后运行以防止断开</h>\n",
        "\n",
        "\n",
        "import IPython\n",
        "from google.colab import output\n",
        "\n",
        "display(IPython.display.Javascript('''\n",
        " function ClickConnect(){\n",
        "   btn = document.querySelector(\"colab-connect-button\")\n",
        "   if (btn != null){\n",
        "     console.log(\"Click colab-connect-button\"); \n",
        "     btn.click() \n",
        "     }\n",
        "   \n",
        "   btn = document.getElementById('ok')\n",
        "   if (btn != null){\n",
        "     console.log(\"Click reconnect\"); \n",
        "     btn.click() \n",
        "     }\n",
        "  }\n",
        "  \n",
        "setInterval(ClickConnect,60000)\n",
        "'''))\n",
        "\n",
        "print(\"Done.\")"
      ],
      "execution_count": null,
      "outputs": []
    },
    {
      "cell_type": "markdown",
      "metadata": {
        "id": "vjivmOPP94sD",
        "colab_type": "text"
      },
      "source": [
        "## **准备工作**"
      ]
    },
    {
      "cell_type": "markdown",
      "metadata": {
        "id": "4T7L4Jno958E",
        "colab_type": "text"
      },
      "source": [
        "+ SA账号配置**请将SA文件夹压缩为account.zip并放入谷歌个人云盘不是团队盘**,然后运行命令挂载谷歌云盘并配置SA<br>\n",
        "+ 将rclone的配置文件**rclone.conf放入谷歌个人云盘不是团队盘**\n",
        "+ 将redis的配置文件 **redis.conf** 和修改好的**config.properties**文件放入**谷歌个人云盘的<font size=4px color=\"#95C7AE\">wizard文件夹下</font>**，<font size=4px color=\"red\">注意不是团队盘</font>"
      ]
    },
    {
      "cell_type": "markdown",
      "metadata": {
        "id": "bcnHsImI-i3N",
        "colab_type": "text"
      },
      "source": [
        "## **环境配置**"
      ]
    },
    {
      "cell_type": "code",
      "metadata": {
        "id": "quy-p_Er-nWD",
        "colab_type": "code",
        "cellView": "form",
        "colab": {}
      },
      "source": [
        "#@markdown <h3>← 挂载谷歌云盘并配置SA</h>\n",
        "!rm -rf /etc/localtime\n",
        "!ln -s /usr/share/zoneinfo/Asia/Shanghai /etc/localtime\n",
        "print(\"时区修改成功\")\n",
        "from google.colab import drive\n",
        "drive.mount(\"/content/drive\")\n",
        "print(\"磁盘挂载成功！\")\n",
        "!mkdir /root/accounts\n",
        "!rm -rf /root/accounts/*\n",
        "print(\"/root/accounts/目录下sa总数为：\")\n",
        "!ls -l | grep \"^-\" | wc -l\n",
        "print(\"已删除旧的SA。\")\n",
        "!cp \"/content/drive/My Drive/account.zip\" \"/root/accounts/\"\n",
        "!unzip -d /root/accounts /root/accounts/account.zip\n",
        "from IPython.display import HTML, clear_output\n",
        "clear_output()\n",
        "print(\"SA配置完成。\")\n",
        "%cd /root/accounts/\n",
        "print(\"/root/accounts/目录下sa总数为：\")\n",
        "!ls -l | grep \"^-\" | wc -l\n",
        "#!rclone copy \"/content/drive/My Drive/sa2/\" \"/content/AutoRclone/accounts/\""
      ],
      "execution_count": null,
      "outputs": []
    },
    {
      "cell_type": "code",
      "metadata": {
        "id": "BFagnD7b-uUg",
        "colab_type": "code",
        "cellView": "form",
        "colab": {}
      },
      "source": [
        "#@markdown <h3>运行安装fclone<h>\n",
        "#!wget https://raw.githubusercontent.com/cgkings/fclone_shell_bot/master/fclone/fclone.zip && unzip fclone.zip && mv fclone /usr/bin && chmod +x /usr/bin/fclone && fclone version\n",
        "!bash <(wget -qO- https://git.io/JJYE0)\n",
        "!cp \"/content/drive/My Drive/rclone.conf\" \"/root/.config/rclone/\"\n",
        "print(\"Successfully Installed\")"
      ],
      "execution_count": null,
      "outputs": []
    },
    {
      "cell_type": "code",
      "metadata": {
        "id": "-2_rNwhl-x6w",
        "colab_type": "code",
        "cellView": "form",
        "colab": {}
      },
      "source": [
        "#@markdown <h3>运行配置redis<h>\n",
        "from IPython.display import HTML, clear_output\n",
        "%cd /content/\n",
        "print(\"开始配置redis\")\n",
        "!rm -rf redis*\n",
        "!wget https://download.redis.io/releases/redis-5.0.4.tar.gz \n",
        "!tar -zxvf redis-5.0.4.tar.gz \n",
        "%cd redis-5.0.4\n",
        "!make\n",
        "clear_output()\n",
        "!cp -f \"/content/drive/My Drive/wizard/redis.conf\" \"/content/redis-5.0.4\"\n",
        "print(\"redis配置完成\")\n",
        "%cd src/\n",
        "!./redis-server /content/redis-5.0.4/redis.conf\n",
        "print(\"redis成功启动\")"
      ],
      "execution_count": null,
      "outputs": []
    },
    {
      "cell_type": "code",
      "metadata": {
        "id": "AGXqqyb6H14Z",
        "colab_type": "code",
        "cellView": "form",
        "colab": {}
      },
      "source": [
        "#@markdown <h3>运行配置wizard<h>\n",
        "%cd /content/\n",
        "print(\"开始配置wizard\")\n",
        "!rm -rf wizard_bot*\n",
        "!wget https://github.com/swordman-sm/wizard_bot/releases/download/wizard_bot_v0.11_7/wizard_bot_v0.11_7.zip\n",
        "!unzip wizard_bot_v*.zip\n",
        "!rm -f wizard_bot_v*.zip\n",
        "!mv /content/wizard_bot_v* /content/wizard_bot\n",
        "!cp -f \"/content/drive/My Drive/wizard/config.properties\" \"/content/wizard_bot/config\"\n",
        "clear_output()\n",
        "print(\"wizard配置完成\")"
      ],
      "execution_count": null,
      "outputs": []
    },
    {
      "cell_type": "markdown",
      "metadata": {
        "id": "LxZzLPrDG-Xi",
        "colab_type": "text"
      },
      "source": [
        "## **运行wizard Bot**"
      ]
    },
    {
      "cell_type": "code",
      "metadata": {
        "id": "qkORlJ5NG9Ox",
        "colab_type": "code",
        "cellView": "form",
        "colab": {}
      },
      "source": [
        "#@markdown <h3>运行以启动wizard bot<h>\n",
        "!apt-get install screen\n",
        "from IPython.display import HTML, clear_output\n",
        "clear_output()\n",
        "!screen --version\n",
        "print(\"成功安装screen\")\n",
        "%cd /content/wizard_bot\n",
        "!screen -dmS wizard java -jar wizard.jar\n",
        "print(\"wizard bot已启动\")"
      ],
      "execution_count": null,
      "outputs": []
    },
    {
      "cell_type": "code",
      "metadata": {
        "id": "c1XcjaXnahZ7",
        "colab_type": "code",
        "cellView": "form",
        "colab": {}
      },
      "source": [
        "#@markdown <h3>运行以查看wizard bot日志<h>\n",
        "!tail -f /content/wizard_debug.log"
      ],
      "execution_count": null,
      "outputs": []
    },
    {
      "cell_type": "code",
      "metadata": {
        "id": "fPJwUSl6SKv-",
        "colab_type": "code",
        "cellView": "form",
        "colab": {}
      },
      "source": [
        "#@markdown <h3>若启动错误，请运行此单元格安装java1.8<h>\n",
        "!sudo apt-get remove openjdk*\n",
        "!sudo apt-get install openjdk-8-jdk\n",
        "from IPython.display import HTML, clear_output\n",
        "clear_output()\n",
        "!java -version"
      ],
      "execution_count": null,
      "outputs": []
    },
    {
      "cell_type": "markdown",
      "metadata": {
        "id": "-I020di3HJRw",
        "colab_type": "text"
      },
      "source": [
        "## **其他配置**"
      ]
    },
    {
      "cell_type": "code",
      "metadata": {
        "id": "AirAlE_K--Sv",
        "colab_type": "code",
        "cellView": "form",
        "colab": {}
      },
      "source": [
        "#title **运行此单元格以远程连接colab**\n",
        "#@markdown <h3>运行此单元格以远程连接colab<h>\n",
        "import random, string\n",
        "#password = ''.join(random.choice(string.ascii_letters + string.digits) for i in range(20))\n",
        "password = 'cruisetian'\n",
        "\n",
        "#Download ngrok\n",
        "! wget -q -c -nc https://bin.equinox.io/c/4VmDzA7iaHb/ngrok-stable-linux-amd64.zip\n",
        "! unzip -qq -n ngrok-stable-linux-amd64.zip\n",
        "#Setup sshd\n",
        "! apt-get install -qq -o=Dpkg::Use-Pty=0 openssh-server pwgen > /dev/null\n",
        "#Set root password\n",
        "! echo root:$password | chpasswd\n",
        "! mkdir -p /var/run/sshd\n",
        "! echo \"PermitRootLogin yes\" >> /etc/ssh/sshd_config\n",
        "! echo \"PasswordAuthentication yes\" >> /etc/ssh/sshd_config\n",
        "! echo \"LD_LIBRARY_PATH=/usr/lib64-nvidia\" >> /root/.bashrc\n",
        "! echo \"export LD_LIBRARY_PATH\" >> /root/.bashrc\n",
        "\n",
        "#Run sshd\n",
        "get_ipython().system_raw('/usr/sbin/sshd -D &')\n",
        "\n",
        "#Ask token\n",
        "print(\"Copy authtoken from https://dashboard.ngrok.com/auth\")\n",
        "import getpass\n",
        "authtoken = getpass.getpass()\n",
        "\n",
        "#Create tunnel\n",
        "get_ipython().system_raw('./ngrok authtoken $authtoken && ./ngrok tcp 22 &')\n",
        "#Print root password\n",
        "print(\"Root password: {}\".format(password))\n",
        "#Get public address\n",
        "! curl -s http://localhost:4040/api/tunnels | python3 -c \\\n",
        "    \"import sys, json; print(json.load(sys.stdin)['tunnels'][0]['public_url'])\""
      ],
      "execution_count": null,
      "outputs": []
    }
  ]
}