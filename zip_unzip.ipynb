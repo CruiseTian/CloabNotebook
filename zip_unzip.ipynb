{
  "nbformat": 4,
  "nbformat_minor": 0,
  "metadata": {
    "colab": {
      "name": "zip-unzip.ipynb",
      "provenance": [],
      "collapsed_sections": [],
      "authorship_tag": "ABX9TyN3qbv2vx+wpwxhsoA+O57z",
      "include_colab_link": true
    },
    "kernelspec": {
      "name": "python3",
      "display_name": "Python 3"
    }
  },
  "cells": [
    {
      "cell_type": "markdown",
      "metadata": {
        "id": "view-in-github",
        "colab_type": "text"
      },
      "source": [
        "<a href=\"https://colab.research.google.com/github/CruiseTian/CloabNotebook/blob/master/zip_unzip.ipynb\" target=\"_parent\"><img src=\"https://colab.research.google.com/assets/colab-badge.svg\" alt=\"Open In Colab\"/></a>"
      ]
    },
    {
      "cell_type": "markdown",
      "metadata": {
        "id": "Vs8HYno3Pf4U",
        "colab_type": "text"
      },
      "source": [
        "## **基础配置**"
      ]
    },
    {
      "cell_type": "markdown",
      "metadata": {
        "id": "njy9vbFARtG0",
        "colab_type": "text"
      },
      "source": [
        "### <font size=5px color=\"red\">✦ *Google Colab 突破90分钟自动断开:</font>\n",
        "<p><font size=3px > 每60分钟自动运行代码以刷新90分钟断开限制. 打开 developer-settings (在你的浏览器) 快速健 Ctrl+Shift+I 然后按console 输入以下代码 Enter. ( mac 按 Option+Command+I)</p><b>复制以下隐藏代码粉贴在浏览器console！！不要关闭浏览器以免失效</b>"
      ]
    },
    {
      "cell_type": "markdown",
      "metadata": {
        "id": "yOKKivDsR8g-",
        "colab_type": "text"
      },
      "source": [
        "<code>function ClickConnect(){\n",
        "console.log(\"Working\"); \n",
        "document.querySelector(\"colab-connect-button\").click() \n",
        "}setInterval(ClickConnect,6000)</code>"
      ]
    },
    {
      "cell_type": "code",
      "metadata": {
        "id": "DFtWXaorSBUT",
        "colab_type": "code",
        "cellView": "form",
        "colab": {}
      },
      "source": [
        "#@markdown <h3>← 输入了代码后运行以防止断开</h>\n",
        "\n",
        "\n",
        "import IPython\n",
        "from google.colab import output\n",
        "\n",
        "display(IPython.display.Javascript('''\n",
        " function ClickConnect(){\n",
        "   btn = document.querySelector(\"colab-connect-button\")\n",
        "   if (btn != null){\n",
        "     console.log(\"Click colab-connect-button\"); \n",
        "     btn.click() \n",
        "     }\n",
        "   \n",
        "   btn = document.getElementById('ok')\n",
        "   if (btn != null){\n",
        "     console.log(\"Click reconnect\"); \n",
        "     btn.click() \n",
        "     }\n",
        "  }\n",
        "  \n",
        "setInterval(ClickConnect,60000)\n",
        "'''))\n",
        "\n",
        "print(\"Done.\")"
      ],
      "execution_count": null,
      "outputs": []
    },
    {
      "cell_type": "code",
      "metadata": {
        "id": "0ry57XVuPLaI",
        "colab_type": "code",
        "cellView": "form",
        "colab": {}
      },
      "source": [
        "#@title 运行以挂载Google drive(默认挂载在'/content/gdrive'下)\n",
        "from google.colab import drive \n",
        "drive.mount('/content/gdrive') "
      ],
      "execution_count": null,
      "outputs": []
    },
    {
      "cell_type": "markdown",
      "metadata": {
        "id": "tLQM0mM1PxHB",
        "colab_type": "text"
      },
      "source": [
        "## **打包或压缩文件**"
      ]
    },
    {
      "cell_type": "markdown",
      "metadata": {
        "id": "up6mtX-dP6Nd",
        "colab_type": "text"
      },
      "source": [
        "### **单一文件或文件夹**"
      ]
    },
    {
      "cell_type": "code",
      "metadata": {
        "id": "Y04eLoTHh6HR",
        "colab_type": "code",
        "cellView": "form",
        "colab": {}
      },
      "source": [
        "#@markdown <h3>← 输入要打包的文件或文件夹路径（dir）以及打包后的路径（tarFile）以后运行</h>\n",
        "import os, tarfile\n",
        "#一次性打包整个根目录。空子目录会被打包。\n",
        "#如果只打包不压缩，将\"w:gz\"参数改为\"w:\"或\"w\"即可。\n",
        "'''def make_tar(output_filename, source_dir):\n",
        "  with tarfile.open(output_filename, \"w:\") as tar:\n",
        "    tar.add(source_dir, arcname=os.path.basename(source_dir))\n",
        "\n",
        "def make_targz(output_filename, source_dir):\n",
        "  with tarfile.open(output_filename, \"w:gz\") as tar:\n",
        "    tar.add(source_dir, arcname=os.path.basename(source_dir))\n",
        "#逐个添加文件打包，未打包空子目录。可过滤文件。\n",
        "#如果只打包不压缩，将\"w:gz\"参数改为\"w:\"或\"w\"即可。\n",
        "def make_targz_one_by_one(output_filename, source_dir):\n",
        "  tar = tarfile.open(output_filename,\"w:gz\")\n",
        "  for root,dir,files in os.walk(source_dir):\n",
        "    for file in files:\n",
        "      pathfile = os.path.join(root, file)\n",
        "      tar.add(pathfile)\n",
        "  tar.close()\n",
        "'''\n",
        "dir = \"\" #@param {type:\"string\"}\n",
        "tarFile = \"\" #@param {type:\"string\"}\n",
        "!tar cvf \"$tarFile\" \"$dir\"\n",
        "print(\"Success\")"
      ],
      "execution_count": null,
      "outputs": []
    },
    {
      "cell_type": "code",
      "metadata": {
        "id": "OERBN8cDPMom",
        "colab_type": "code",
        "cellView": "form",
        "colab": {}
      },
      "source": [
        "#@markdown <h3>← 输入要压缩的文件或文件夹路径（dir）以及压缩后保存的路径（zipFile）以后运行</h>\n",
        "import os, zipfile\n",
        "\n",
        "'''def make_zip(source_dir, output_filename):\n",
        "    zipf = zipfile.ZipFile(output_filename, 'w')    \n",
        "    pre_len = len(os.path.dirname(source_dir))\n",
        "    for parent, dirnames, filenames in os.walk(source_dir):\n",
        "        for filename in filenames:\n",
        "            pathfile = os.path.join(parent, filename)\n",
        "            arcname = pathfile[pre_len:].strip(os.path.sep)     #相对路径\n",
        "            zipf.write(pathfile, arcname)\n",
        "    zipf.close()\n",
        "'''    \n",
        "dir = \"\" #@param {type:\"string\"}\n",
        "zipFile = \"\" #@param {type:\"string\"}\n",
        "#make_zip(dir,zipFile)\n",
        "!zip -q -r \"$zipFile\" \"$dir\"\n",
        "print(\"Success\")"
      ],
      "execution_count": null,
      "outputs": []
    },
    {
      "cell_type": "markdown",
      "metadata": {
        "id": "ssKg-yaHQAEe",
        "colab_type": "text"
      },
      "source": [
        "### **批量压缩文件或文件夹**"
      ]
    },
    {
      "cell_type": "code",
      "metadata": {
        "id": "0Lo0kg4_btGj",
        "colab_type": "code",
        "cellView": "form",
        "colab": {}
      },
      "source": [
        "#@title **输入要批量压缩的文件夹路径(压缩为.zip文件)**\n",
        "path = \"\" #@param {type:\"string\"}\n",
        "%cd $path\n",
        "!for i in `find ./3* -maxdepth 0 -type d`;do zip -r $i.zip ./$i/*;done\n",
        "#!find ./0* -maxdepth 0 -type d"
      ],
      "execution_count": null,
      "outputs": []
    },
    {
      "cell_type": "markdown",
      "metadata": {
        "id": "s2sPHN8JQHIV",
        "colab_type": "text"
      },
      "source": [
        "## **获取文件数目与文件大小**"
      ]
    },
    {
      "cell_type": "code",
      "metadata": {
        "id": "HmHtxnpEUy6E",
        "colab_type": "code",
        "cellView": "form",
        "colab": {}
      },
      "source": [
        "#@markdown <h3>← 输入文件名称(filename)或文件夹路径(dir)来获取他们的大小</h>\n",
        "'''import os\n",
        "\n",
        "def getFileSize(filePath, size=0):\n",
        "    for root, dirs, files in os.walk(filePath):\n",
        "        for f in files:\n",
        "            size += os.path.getsize(os.path.join(root, f))\n",
        "            #print(f)\n",
        "    return size'''\n",
        "filename = \"\" #@param {type:\"string\"}\n",
        "#fsize = os.path.getsize(filename)\n",
        "#print('The file size is: {K}Kb, {M} Mb, {G}Gb'.format(K=fsize/1024, M=fsize/1024/1024, G=fsize/1024/1024/1024))\n",
        "\n",
        "dir = \"\" #@param {type:\"string\"}\n",
        "#dsize = getFileSize(dir)\n",
        "#print('The directory size is: {K}kb, {M} Mb, {G}Gb'.format(K=dsize/1024, M=dsize/1024/1024, G=dsize/1024/1024/1024))\n",
        "!ls -lh \"$filename\"\n",
        "!du -h --max-depth=0 \"$dir\""
      ],
      "execution_count": null,
      "outputs": []
    },
    {
      "cell_type": "code",
      "metadata": {
        "id": "XjEsp0dQQq8u",
        "colab_type": "code",
        "cellView": "form",
        "colab": {}
      },
      "source": [
        "#@markdown <h3>← 输入文件夹路径(path)来获取其中的文件与文件夹数目</h>\n",
        "import os\n",
        "\n",
        "dirnum = 0\n",
        "filenum = 0\n",
        "path = \"\" #@param {type:\"string\"}\n",
        "\n",
        "#for fn in os.listdir(path): #fn 表示的是文件名\n",
        "#    dirnum = dirnum+1\n",
        "\n",
        "for root,dirs,files in os.walk(path):    #遍历统计\n",
        "    for each in files:\n",
        "        filenum += 1\n",
        "\n",
        "#print('dirnum: ',dirnum)\n",
        "print('filenum: ',filenum)\n",
        "#print(\"文件数目：\")\n",
        "#!ls -lR \"$path\"|grep \"^-\"|wc -l\n",
        "#print(\"文件夹数目：\")\n",
        "#!ls -lR \"$path\"| grep \"^d\" | wc -l"
      ],
      "execution_count": null,
      "outputs": []
    },
    {
      "cell_type": "markdown",
      "metadata": {
        "id": "hMjUhByRQNuh",
        "colab_type": "text"
      },
      "source": [
        "## **解压缩文件**"
      ]
    },
    {
      "cell_type": "code",
      "metadata": {
        "id": "UVYnmD_4VaMQ",
        "colab_type": "code",
        "cellView": "form",
        "colab": {}
      },
      "source": [
        "#@title **解压单个压缩包(可以解压.zip，.rar，.7z文件)** \n",
        "#@markdown <h4>输入压缩包路径（path）以及解压后保存的路径（dir），如果有密码也可以输入密码(password)，然后点击左侧按钮解压\n",
        "path = \"\" #@param {type:\"string\"}\n",
        "dir = \"\" #@param {type:\"string\"}\n",
        "password = \"\" #@param {type:\"string\"}\n",
        "if path[-1:]==\"r\":\n",
        "  !unrar x -puud $password \"$path\" \"$dir\"\n",
        "  print(1)\n",
        "elif path[-1:]==\"p\":\n",
        "  !unzip -Puud $password \"$path\" -d \"$dir\"\n",
        "  print(2)\n",
        "elif path[-1:]==\"z\":\n",
        "  !7z x -puud $password \"$path\" -r -o\"$dir\"\n",
        "  print(3)\n",
        "print(\"success\")"
      ],
      "execution_count": null,
      "outputs": []
    },
    {
      "cell_type": "code",
      "metadata": {
        "id": "Uj_S8Z_Acrur",
        "colab_type": "code",
        "cellView": "form",
        "colab": {}
      },
      "source": [
        "#@title **批量解压压缩包(只能解压.rar和.zip文件)** \n",
        "#@markdown <h4>输入多个压缩包所在的文件夹路径(path)以及解压后保存的路径(dir),如果有密码请输入密码(password),然后点击左侧按钮解压\n",
        "path = \"\" #@param {type:\"string\"}\n",
        "dir = \"\" #@param {type:\"string\"}\n",
        "password = \"\" #@param {type:\"string\"}\n",
        "if path[-1:]==\"/\":\n",
        "  path1 = path+\"*.rar\"\n",
        "  path2 = path+\"*.zip\"\n",
        "else:\n",
        "  path1 = path+\"/*.rar\"\n",
        "  path2 = path+\"/*.zip\"\n",
        "print(path1,path2)\n",
        "!unrar x -r -puud $password \"$path1\" \"$dir\"\n",
        "!unzip -Puud $password \"$path2\" -d \"$dir\"\n",
        "print(\"success\")"
      ],
      "execution_count": null,
      "outputs": []
    },
    {
      "cell_type": "code",
      "metadata": {
        "id": "22hpKVCQo9c7",
        "colab_type": "code",
        "cellView": "form",
        "colab": {}
      },
      "source": [
        "#@title **批量解压ZIP压缩包** \n",
        "#@markdown <h4>输入多个zip压缩包所在的文件夹路径(path)以及解压后保存的路径(dir),如果有密码请输入密码(password),然后点击左侧按钮解压\n",
        "path = \"/content/zip\" #@param {type:\"string\"}\n",
        "dir = \"/content/zip\" #@param {type:\"string\"}\n",
        "password = \"\" #@param {type:\"string\"}\n",
        "if path[-1:]==\"/\":\n",
        "  path = path+\"*.zip\"\n",
        "else:\n",
        "  path = path+\"/*.zip\"\n",
        "print(path)\n",
        "!unzip -Puud $password \"$path\" -d \"$dir\"\n",
        "print(\"success\")"
      ],
      "execution_count": null,
      "outputs": []
    },
    {
      "cell_type": "code",
      "metadata": {
        "id": "MeAe1216rIU3",
        "colab_type": "code",
        "cellView": "form",
        "colab": {}
      },
      "source": [
        "#@title **批量解压rar压缩包** \n",
        "#@markdown <h4>输入多个rar压缩包所在的文件夹路径(path)以及解压后保存的路径(dir),如果有密码请输入密码(password),然后点击左侧按钮解压\n",
        "path = \"/content/zip\" #@param {type:\"string\"}\n",
        "dir = \"/content/zip\" #@param {type:\"string\"}\n",
        "password = \"\" #@param {type:\"string\"}\n",
        "if path[-1:]==\"/\":\n",
        "  path = path+\"*.rar\"\n",
        "else:\n",
        "  path = path+\"/*.rar\"\n",
        "print(path)\n",
        "!unrar x -r -puud $password \"$path\" \"$dir\"\n",
        "print(\"success\")"
      ],
      "execution_count": null,
      "outputs": []
    },
    {
      "cell_type": "markdown",
      "metadata": {
        "id": "jxgtAjNYQbu8",
        "colab_type": "text"
      },
      "source": [
        "## **其他配置**"
      ]
    },
    {
      "cell_type": "code",
      "metadata": {
        "id": "vdc8hKTh5vuq",
        "colab_type": "code",
        "cellView": "form",
        "colab": {}
      },
      "source": [
        "#@title 进入要解压的目录\n",
        "import os\n",
        "path = \"\" #@param {type:\"string\"}\n",
        "os.chdir(path)\n",
        "print(\"The path has changed to {p}\".format(p=os.getcwd()))"
      ],
      "execution_count": null,
      "outputs": []
    },
    {
      "cell_type": "code",
      "metadata": {
        "id": "CiGQPf5R7EfX",
        "colab_type": "code",
        "cellView": "form",
        "colab": {}
      },
      "source": [
        "#@title 一键清除空目录下的空文件及空文件夹\n",
        "!find . -name \"*\" -type f -size 0c | xargs -n 1 rm -rf\n",
        "!find -type d -empty | rm -rf "
      ],
      "execution_count": null,
      "outputs": []
    },
    {
      "cell_type": "code",
      "metadata": {
        "id": "ygD96uwM7OkP",
        "colab_type": "code",
        "cellView": "form",
        "colab": {}
      },
      "source": [
        "#@title 循环查找目录下的.rar压缩文件并解压 \n",
        "!find . -name \"*\" -type f -iname '*.rar'  -execdir  unrar x -p1234 {} \\;"
      ],
      "execution_count": null,
      "outputs": []
    },
    {
      "cell_type": "code",
      "metadata": {
        "id": "7iB-WY8t7aLk",
        "colab_type": "code",
        "cellView": "form",
        "colab": {}
      },
      "source": [
        "#@title 循环查找目录下的.zip压缩文件并解压 \n",
        "!find . -name \"*\" -type f -iname '*.zip'  -execdir  unrar x -p welteqohxkfmoznv{} \\;"
      ],
      "execution_count": null,
      "outputs": []
    },
    {
      "cell_type": "code",
      "metadata": {
        "id": "mmzqHo9a7f9_",
        "colab_type": "code",
        "cellView": "form",
        "colab": {}
      },
      "source": [
        "#@title 循环查找目录下的.7z压缩文件并使用密码解压 \n",
        "!find . -name \"*\" -type f -iname '*.7z'  -execdir  7za x -p1234{} \\;"
      ],
      "execution_count": null,
      "outputs": []
    }
  ]
}